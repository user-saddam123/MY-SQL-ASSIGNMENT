{
 "cells": [
  {
   "cell_type": "markdown",
   "id": "07f54ae0-b1d6-417b-962f-08040d2b4274",
   "metadata": {},
   "source": [
    "MySql ASSIGNMENT"
   ]
  },
  {
   "cell_type": "markdown",
   "id": "1ede50f4-4f76-474d-9f28-eaf222ca877d",
   "metadata": {},
   "source": [
    "Assignment Questions and solution by-SADDAM ANSARI for PW-SKILLS during the data science masters program course"
   ]
  },
  {
   "cell_type": "code",
   "execution_count": null,
   "id": "9c763285-a49e-4e6f-a32b-71e4ffa298cb",
   "metadata": {},
   "outputs": [],
   "source": []
  },
  {
   "cell_type": "markdown",
   "id": "08d1c431-3efc-41a7-8e7a-ec395fdebb30",
   "metadata": {},
   "source": [
    "Q1. What is a database? Differentiate between SQL and NoSQL databases."
   ]
  },
  {
   "cell_type": "markdown",
   "id": "53ccc9a2-8e7c-4a41-88c1-50c2560d6d05",
   "metadata": {},
   "source": [
    "Database- A database is a structured collection of data that is organized and stored for efficient retrieval, management, and manipulation.\n",
    "\n",
    "Differentiating between SQL and NoSQL databases:\n",
    "\n",
    "1.SQL Databases:\n",
    "* SQL (Structured Query Language) databases are relational databases that store data in tables with predefined schemas.\n",
    "\n",
    "* SQL databases are best suited fot structured and well-defined data with fixed schemas.\n",
    "\n",
    "* Populara SQL databases include MySQL, PostgreSQL, Oracle, and Microsoft SQL Server.\n",
    "\n",
    "2.NoSQL Databases:\n",
    "* NoSQL (Not Only SQL) databases are non-relational databases.\n",
    "\n",
    "* They can handle unstructured, semi-structured, and rapidly changing data formats.\n",
    "\n",
    "* Popular NoSQL databases include MongoDB, Cassandra, Redis, and Elasticsearch."
   ]
  },
  {
   "cell_type": "code",
   "execution_count": null,
   "id": "8697d29d-a098-4365-82e4-85cdb283abfb",
   "metadata": {},
   "outputs": [],
   "source": []
  },
  {
   "cell_type": "markdown",
   "id": "fd58deda-39af-4894-b8ca-292df44f5d6c",
   "metadata": {},
   "source": [
    "Q2. What is DDL? Explain why CREATE, DROP, ALTER, and TRUNCATE are used with an example."
   ]
  },
  {
   "cell_type": "markdown",
   "id": "70cc1c70-4994-4ca0-a310-261cbfe860f9",
   "metadata": {},
   "source": [
    "* DDL: stands for Data Definition Language. DDL statements are used to create, modify, and delete.\n",
    "\n",
    "1. CREATE: The CREATE statement is used to create new database objects like as table , colum and etc.\n",
    "        eg: CREAT TABLE emp_info(\n",
    "            id INT,\n",
    "            name VARCHAR(50),\n",
    "            email VARCHAR(100)\n",
    "            );\n",
    "            \n",
    "\n",
    "2. DROP: The DROP statement is used to remove or delete existing database objects.\n",
    "        eg: DROP TABLE emp_info;\n",
    "        \n",
    "        \n",
    "3. ALTER: The ALTER statement is used to modify the structure of an existing database object.\n",
    "        eg: ALTER TABLE emp_info\n",
    "            ADD COLUMN address VARCHAR(255);\n",
    "            \n",
    "4. TRUNCATE: The TRUNCATE statement is used to delete all data from a table, but keeps the table structure intact.\n",
    "        eg: TRUNCATE TABLE emp_info;\n",
    "\n"
   ]
  },
  {
   "cell_type": "code",
   "execution_count": null,
   "id": "ecef5eba-dd49-4fc1-be55-b3384800ffc2",
   "metadata": {},
   "outputs": [],
   "source": []
  },
  {
   "cell_type": "markdown",
   "id": "dd00d600-128f-4d78-8abe-ac7ac321e88a",
   "metadata": {},
   "source": [
    "Q3. What is DML? Explain INSERT, UPDATE, and DELETE with an example."
   ]
  },
  {
   "cell_type": "markdown",
   "id": "273b34ed-f02c-48ce-9fbd-47bca1a31e90",
   "metadata": {},
   "source": [
    "* DML: stands for Data Manipulation Language. It is used to retrieve, insert, update, and delete data within a database.\n",
    "\n",
    "1. INSERT: The INSERT statement is used to add new rows or records into a table.eg: INSERT INTO emp_info (name, email, phone) VALUES('Saddam Ansari',saddam123@.com','7564012305');\n",
    "\n",
    "\n",
    "2. UPDATE: The UPDATE statement is used to modify or update existing records within a table. eg: UPDATE emp_info SET email = 'saddam1223@gmail.com' WHERE name = Saddam Ansari;\n",
    "\n",
    "3. DELETE: The DELETE statement is used to remove one or more rows from a table. \n",
    "eg: DELETE FROM emp_info\n",
    "WHERE name = Saddam Ansari;\n",
    "\n",
    "\n"
   ]
  },
  {
   "cell_type": "code",
   "execution_count": null,
   "id": "f0a1b3b5-8184-499e-b2fd-bc75409b0ab0",
   "metadata": {},
   "outputs": [],
   "source": []
  },
  {
   "cell_type": "markdown",
   "id": "42f670ed-3879-40c4-8063-ba9434770ffe",
   "metadata": {},
   "source": [
    "Q4. What is DQL? Explain SELECT with an example."
   ]
  },
  {
   "cell_type": "markdown",
   "id": "2512d468-682b-47fa-8892-ceb3f5fc5d99",
   "metadata": {},
   "source": [
    "* DQL:  stands for Data Query Language. It is used to retrieve and query data from a database. \n",
    "\n",
    "* SELECT: The SELECT statement is used to retrieve data from one or more tables in a database. eg: SELECT name, email\n",
    "FROM emp_info;\n"
   ]
  },
  {
   "cell_type": "code",
   "execution_count": null,
   "id": "eb5ce329-8d71-4d1c-b243-cc203948b4a2",
   "metadata": {},
   "outputs": [],
   "source": []
  },
  {
   "cell_type": "markdown",
   "id": "3d5dc916-5b57-434f-be31-fedadf9659fb",
   "metadata": {},
   "source": [
    "Q5. Explain Primary Key and Foreign Key."
   ]
  },
  {
   "cell_type": "markdown",
   "id": "43d12327-8f75-47b6-b396-771541b042e2",
   "metadata": {},
   "source": [
    "* Primary Key:\n",
    "In a relational database, a primary key is a column or combination of columns that uniquely identifies each row or record in a table.\n",
    "\n",
    "* Foreign Key:\n",
    "A foreign key is a column or a set of columns in a table that refers to the primary key of another table. It establishes a relationship between two tables by enforcing referential integrity. "
   ]
  },
  {
   "cell_type": "code",
   "execution_count": null,
   "id": "b901e64c-a0b1-4e30-96c0-8868526130a2",
   "metadata": {},
   "outputs": [],
   "source": []
  },
  {
   "cell_type": "markdown",
   "id": "1899beec-925a-4fd4-84af-0278c9538297",
   "metadata": {},
   "source": [
    "Q6. Write a python code to connect MySQL to python. Explain the cursor() and execute() method."
   ]
  },
  {
   "cell_type": "markdown",
   "id": "91f35bd7-4f31-4025-a90f-c2035a461613",
   "metadata": {},
   "source": [
    "import mysql.connector\n",
    "\n",
    "connection = mysql.connector.connect(\n",
    "    host=\"localhost\",\n",
    "    user=\"saddam123\",\n",
    "    password=\"saddam123\",\n",
    "    database=\"my_obj\"\n",
    ")\n"
   ]
  },
  {
   "cell_type": "markdown",
   "id": "5a49a6f3-89ec-41ab-b267-b3939e7c3549",
   "metadata": {},
   "source": [
    "* The cursor() method creates a cursor object, which acts as a handle or control structure for executing SQL statements and managing the result sets. It provides methods like execute(), fetchone(), fetchall(), etc., to interact with the database.\n",
    "\n",
    "* The execute() method is used to execute an SQL query or statement. It takes the SQL query as a parameter and performs the corresponding database operation, such as retrieving data, inserting records, updating values, etc. "
   ]
  },
  {
   "cell_type": "code",
   "execution_count": null,
   "id": "a166817a-e386-4940-a17b-851bf4c341dd",
   "metadata": {},
   "outputs": [],
   "source": []
  },
  {
   "cell_type": "markdown",
   "id": "b3fdb995-e4f7-42ba-878d-1c4cbdeaeb29",
   "metadata": {},
   "source": [
    "Q7. Give the order of execution of SQL clauses in an SQL query."
   ]
  },
  {
   "cell_type": "markdown",
   "id": "8e03a091-1cd8-4075-817b-2fb93ec0310b",
   "metadata": {},
   "source": [
    "The order of execution of SQL clauses in an SQL query generally follows this sequence:\n",
    "\n",
    "* FROM: Specifies the table or tables from which the data will be retrieved.\n",
    "* JOIN: Specifies the join conditions to combine data from multiple tables.\n",
    "* WHERE: Applies conditions to filter the rows that satisfy the specified criteria.\n",
    "* GROUP BY: Groups the rows based on specified columns.\n",
    "* HAVING: Applies conditions to filter the grouped rows.\n",
    "* SELECT: Specifies the columns to be retrieved.\n",
    "* DISTINCT: Removes duplicate rows from the result set (optional).\n",
    "* ORDER BY: Sorts the result set based on specified columns.\n",
    "* LIMIT/OFFSET: Limits the number of rows returned or skips a specified number of rows (optional)."
   ]
  },
  {
   "cell_type": "code",
   "execution_count": null,
   "id": "5782078e-2ffa-489e-a1b2-88927094f3b2",
   "metadata": {},
   "outputs": [],
   "source": []
  },
  {
   "cell_type": "markdown",
   "id": "0eff2e61-ad9e-496e-af57-b46cd52f4b0a",
   "metadata": {},
   "source": [
    "* SADDAM ANSARI\n",
    "* 13/07/2023\n",
    "* SAHASA"
   ]
  },
  {
   "cell_type": "code",
   "execution_count": null,
   "id": "7fb100f4-15fe-47ec-ae0d-cfc0ff8ca910",
   "metadata": {},
   "outputs": [],
   "source": []
  }
 ],
 "metadata": {
  "kernelspec": {
   "display_name": "Python 3 (ipykernel)",
   "language": "python",
   "name": "python3"
  },
  "language_info": {
   "codemirror_mode": {
    "name": "ipython",
    "version": 3
   },
   "file_extension": ".py",
   "mimetype": "text/x-python",
   "name": "python",
   "nbconvert_exporter": "python",
   "pygments_lexer": "ipython3",
   "version": "3.10.8"
  }
 },
 "nbformat": 4,
 "nbformat_minor": 5
}
